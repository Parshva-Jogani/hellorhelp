{
  "cells": [
    {
      "cell_type": "markdown",
      "metadata": {
        "id": "view-in-github",
        "colab_type": "text"
      },
      "source": [
        "<a href=\"https://colab.research.google.com/github/Parshva-Jogani/hellorhelp/blob/main/Overview_of_Colaboratory_Features.ipynb\" target=\"_parent\"><img src=\"https://colab.research.google.com/assets/colab-badge.svg\" alt=\"Open In Colab\"/></a>"
      ]
    },
    {
      "cell_type": "code",
      "source": [
        "num1 = 2.2\n",
        "\n",
        "type(num1)"
      ],
      "metadata": {
        "id": "FJ_RD3oPfaxi",
        "outputId": "db0f12e3-bf75-4465-a872-524090b0f6c8",
        "colab": {
          "base_uri": "https://localhost:8080/"
        }
      },
      "execution_count": 7,
      "outputs": [
        {
          "output_type": "execute_result",
          "data": {
            "text/plain": [
              "float"
            ]
          },
          "metadata": {},
          "execution_count": 7
        }
      ]
    },
    {
      "cell_type": "code",
      "source": [
        "num1 = int(input(\"number 1: \"))\n",
        "num2 = int(input(\"number 2: \"))\n",
        "\n",
        "if (num1> num2):\n",
        "  print(num1 , \" is greater than \" , num2)\n",
        "else:\n",
        "  print(num2 , \" is greater than \" , num1)"
      ],
      "metadata": {
        "id": "0oUySzBngLee",
        "outputId": "2bd88f24-a242-458e-d448-008601f651cc",
        "colab": {
          "base_uri": "https://localhost:8080/"
        }
      },
      "execution_count": 13,
      "outputs": [
        {
          "output_type": "stream",
          "name": "stdout",
          "text": [
            "number 1: 5678\n",
            "number 2: 345678\n",
            "345678  is greater than  5678\n"
          ]
        }
      ]
    },
    {
      "cell_type": "code",
      "source": [
        "num = int(input(\"number 1: \"))\n",
        "num1 = int(input(\"number 2: \"))\n",
        "print('1 for add')\n",
        "print('2 for subtract')\n",
        "print('3 for divide')\n",
        "print('4 for multiply')\n",
        "operate = int(input(\"what operation do you want to carry out based on the above numbers:\"))\n",
        "\n",
        "def addition(num, num1):\n",
        "  add = num + num1\n",
        "  print(add)\n",
        "\n",
        "def subtract(num, num1):\n",
        "  sub = num - num1\n",
        "  print(sub)\n",
        "\n",
        "def divide(num, num1):\n",
        "  div = num / num1\n",
        "  print(div)\n",
        "\n",
        "def multiply(num, num1):\n",
        "  mult = num * num1\n",
        "  print(mult)\n",
        "\n",
        "if (operate==1):\n",
        "  addition(num, num1)\n",
        "elif(operate==2):\n",
        "  subtract(num, num1)\n",
        "elif(operate==3):\n",
        "  divide(num, num1)\n",
        "elif(operate==4):\n",
        "  multiply(num, num1)"
      ],
      "metadata": {
        "id": "AADTLhGWhawf",
        "outputId": "93e2a768-33ef-458a-de3a-894cdfdde1ac",
        "colab": {
          "base_uri": "https://localhost:8080/"
        }
      },
      "execution_count": 16,
      "outputs": [
        {
          "output_type": "stream",
          "name": "stdout",
          "text": [
            "number 1: 23435\n",
            "number 2: 567\n",
            "1 for add\n",
            "2 for subtract\n",
            "3 for divide\n",
            "4 for multiply\n",
            "what operation do you want to carry out based on the above numbers:4\n",
            "13287645\n"
          ]
        }
      ]
    },
    {
      "cell_type": "code",
      "source": [
        "age = int(input(\"enter your age\"))\n",
        "age2 = int(input(\"enter your age\"))\n",
        "ages = 18\n",
        "\n",
        "if(age and age2 > ages):\n",
        "  print(\" You are above 18 years of age\")\n",
        "elif(age or age2 > ages):\n",
        "  print(\"both or one of your ages is greater than 18\")"
      ],
      "metadata": {
        "id": "MouBQPYkjzeL",
        "outputId": "2026e29a-a718-4bc7-cea7-43e3f9e433dc",
        "colab": {
          "base_uri": "https://localhost:8080/"
        }
      },
      "execution_count": 19,
      "outputs": [
        {
          "output_type": "stream",
          "name": "stdout",
          "text": [
            "enter your age80\n",
            "enter your age820\n",
            " You are above 18 years of age\n"
          ]
        }
      ]
    },
    {
      "cell_type": "code",
      "source": [
        "st = \"hello\"\n",
        "\n",
        "type(st)"
      ],
      "metadata": {
        "id": "zjNuM5AUgGG8",
        "outputId": "399ca1c6-92f5-48ae-c720-cff9d4a7d8d2",
        "colab": {
          "base_uri": "https://localhost:8080/"
        }
      },
      "execution_count": 6,
      "outputs": [
        {
          "output_type": "execute_result",
          "data": {
            "text/plain": [
              "str"
            ]
          },
          "metadata": {},
          "execution_count": 6
        }
      ]
    }
  ],
  "metadata": {
    "colab": {
      "name": "Overview of Colaboratory Features",
      "provenance": [],
      "include_colab_link": true
    },
    "kernelspec": {
      "display_name": "Python 3",
      "name": "python3"
    }
  },
  "nbformat": 4,
  "nbformat_minor": 0
}